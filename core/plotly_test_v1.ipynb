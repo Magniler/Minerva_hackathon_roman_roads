{
 "cells": [
  {
   "cell_type": "markdown",
   "metadata": {},
   "source": [
    "# Test to make interactive plots with plotly\n",
    "The (plotly)[https://plotly.com/python/] library boasts that it makes the ploting of interactive graphs easy. Lets test this!\n",
    "\n",
    "In this test i will attempt to:\n",
    " - Plot the distribution of road lenghts as violin plots, cut upon which province the road is in"
   ]
  },
  {
   "cell_type": "markdown",
   "metadata": {},
   "source": [
    "# 0: Load in data and packages"
   ]
  },
  {
   "cell_type": "code",
   "execution_count": 20,
   "metadata": {},
   "outputs": [
    {
     "name": "stdout",
     "output_type": "stream",
     "text": [
      "EPSG:3035 EPSG:3395 metre metre\n"
     ]
    }
   ],
   "source": [
    "# Load in relevant packages\n",
    "import geopandas as gpd\n",
    "import pandas as pd\n",
    "import seaborn as sn\n",
    "import numpy as np\n",
    "from pathlib import Path\n",
    "from shapely.geometry import Point, Polygon, MultiPoint\n",
    "import plotly\n",
    "\n",
    "\n",
    "# Load in the data and inspect in\n",
    "# Load a shape file of world lakes as a GeoDataFrame:\n",
    "path_roman_roads_split = Path('C:\\\\Users\\\\mlind\\\\github\\\\Minerva_hackathon\\\\data\\\\split segments\\\\road_merge_split_08112023.shp')\n",
    "roman_roads: gpd.GeoDataFrame = gpd.read_file(path_roman_roads_split)\n",
    "\n",
    "# We need to save the projection and the units used for the geometry for future reference\n",
    "projection_roman_roads = roman_roads.crs\n",
    "units_roman_roads = roman_roads.crs.axis_info[0].unit_name\n",
    "\n",
    "# We load in the provinces data\n",
    "path_to_provinces_geojson = Path(\"C:\\\\Users\\\\mlind\\\\github\\\\Minerva_hackathon\\\\data\\\\provinces_valid.geojson\")\n",
    "roman_provinces: gpd.GeoDataFrame = gpd.read_file(path_to_provinces_geojson)\n",
    "\n",
    "projection_provinces = roman_provinces.crs\n",
    "units_provinces = roman_provinces.crs.axis_info[0].unit_name\n",
    "\n",
    "# We check out the projection and units of the geometries of the different objects\n",
    "print(projection_provinces, projection_roman_roads, units_provinces, units_roman_roads)\n"
   ]
  },
  {
   "cell_type": "markdown",
   "metadata": {},
   "source": [
    "# 1: Prepare the data"
   ]
  },
  {
   "cell_type": "code",
   "execution_count": 21,
   "metadata": {},
   "outputs": [
    {
     "name": "stdout",
     "output_type": "stream",
     "text": [
      "EPSG:3035 EPSG:3395 The projections are not the same so we need to change the provinces projection to match the on of the roads\n",
      "EPSG:3395 EPSG:3395 The projections are now the same, yay!\n"
     ]
    }
   ],
   "source": [
    "print(projection_provinces, projection_roman_roads, \"The projections are not the same so we need to change the provinces projection to match the on of the roads\")\n",
    "\n",
    "# cast the provinces. By doing this we re-project all of the points. I think this i desirable?\n",
    "roman_provinces.to_crs(crs=projection_roman_roads, inplace=True)\n",
    "\n",
    "# update variables\n",
    "projection_provinces = roman_provinces.crs\n",
    "units_provinces = roman_provinces.crs.axis_info[0].unit_name\n",
    "\n",
    "print(projection_provinces, projection_roman_roads, \"The projections are now the same, yay!\")\n",
    "\n",
    "roman_roads_length_gpd = gpd.GeoDataFrame(\n",
    "    data={\"length\" : roman_roads[\"geometry\"].length, \"name\" : roman_roads[\"Name\"]},\n",
    "    geometry=roman_roads[\"geometry\"]\n",
    ")\n",
    "\n",
    "# Now, we need to split the roads dataframe based on the geometry of the provinces. We define a costum function for it\n",
    "def find_province_for_road(geometry_road: Polygon):\n",
    "    for _, province in roman_provinces.iterrows() :\n",
    "        if geometry_road.within(province[\"geometry\"]):\n",
    "            return province[\"province\"]\n",
    "    return pd.NA\n",
    "\n",
    "roman_roads_length_gpd[\"province\"] = roman_roads_length_gpd[\"geometry\"].map(find_province_for_road)\n"
   ]
  },
  {
   "cell_type": "code",
   "execution_count": 28,
   "metadata": {},
   "outputs": [
    {
     "name": "stdout",
     "output_type": "stream",
     "text": [
      "There are 8.198068625436614% of roads which we have not been able to assign a province\n",
      "Not bad, not terribly good either\n"
     ]
    }
   ],
   "source": [
    "roads_missing_provinces: gpd.GeoDataFrame = roman_roads_length_gpd.loc[roman_roads_length_gpd[\"province\"].isna()]\n",
    "print(f\"There are {len(roads_missing_provinces)/len(roman_roads_length_gpd) * 100}% of roads which we have not been able to assign a province\")\n",
    "print(\"Not bad, not terribly good either\")"
   ]
  },
  {
   "cell_type": "markdown",
   "metadata": {},
   "source": [
    "# 2: Plot the data"
   ]
  },
  {
   "cell_type": "code",
   "execution_count": null,
   "metadata": {},
   "outputs": [],
   "source": []
  }
 ],
 "metadata": {
  "kernelspec": {
   "display_name": "minerva-hackathon-BUbf-Wbk-py3.11",
   "language": "python",
   "name": "python3"
  },
  "language_info": {
   "codemirror_mode": {
    "name": "ipython",
    "version": 3
   },
   "file_extension": ".py",
   "mimetype": "text/x-python",
   "name": "python",
   "nbconvert_exporter": "python",
   "pygments_lexer": "ipython3",
   "version": "3.11.5"
  }
 },
 "nbformat": 4,
 "nbformat_minor": 2
}
